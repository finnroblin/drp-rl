{
 "cells": [
  {
   "cell_type": "markdown",
   "metadata": {},
   "source": [
    "Need to do a few things: \n",
    "    1. Create gridworld environment\n",
    "    2. Describe a policy evaluation/improvement method to come up with a solution\n",
    "    3. Visualize this solution\n",
    "\n",
    "\n",
    "    a. Some set of k iterations"
   ]
  },
  {
   "cell_type": "code",
   "execution_count": 2,
   "metadata": {},
   "outputs": [],
   "source": [
    "from enum import Enum\n",
    "import pandas as pd\n",
    "import random\n",
    "from matplotlib import pyplot as plt\n",
    "import numpy as np\n"
   ]
  },
  {
   "cell_type": "code",
   "execution_count": 4,
   "metadata": {},
   "outputs": [],
   "source": [
    "Actions = Enum(\"Actions\", ['UP','DOWN','RIGHT','LEFT'])\n"
   ]
  },
  {
   "cell_type": "code",
   "execution_count": 6,
   "metadata": {},
   "outputs": [
    {
     "data": {
      "text/plain": [
       "1"
      ]
     },
     "execution_count": 6,
     "metadata": {},
     "output_type": "execute_result"
    }
   ],
   "source": [
    "def step(state, action):\n",
    "    pass\n"
   ]
  },
  {
   "cell_type": "code",
   "execution_count": null,
   "metadata": {},
   "outputs": [],
   "source": [
    "\n",
    "def step(state, action):\n",
    "    \n",
    "    next_state = \n",
    "\n",
    "    if is_terminal(state):\n",
    "        reward = 0\n",
    "        return state, reward\n",
    "\n",
    "    return next_state, reward"
   ]
  },
  {
   "cell_type": "code",
   "execution_count": 45,
   "metadata": {},
   "outputs": [],
   "source": [
    "SZ = 4\n",
    "ACTIONS = [\n",
    "    np.array([0,1]), # up\n",
    "    np.array([0, -1]), # down\n",
    "    np.array([-1, 0]), # left\n",
    "    np.array([1,0]) # right\n",
    "]\n",
    "ACTION_PROBABILITY = 0.25 # moving in any of the 4 directions has equal probability\n",
    "GAMMA = 1.0 # arbitrary value, not sure what they used in \n",
    "CONVERGENCE_THRESHOLD = 1e-4 # should be sufficiently small\n",
    "# ITERATIONS_TO_CAPTURE = [0,1,2,3,10]\n",
    "ITERATIONS_TO_CAPTURE = [0,3,10,50,150]\n",
    "\n",
    "def is_terminal(state):\n",
    "    x, y = state\n",
    "    return (x == 0 and y == 0) or (x == SZ-1 and y == SZ-1)\n",
    "\n",
    "def out_of_bounds(x,y):\n",
    "    return x < 0 or x >= SZ or y < 0 or y >= SZ\n",
    "\n",
    "def step(state, action): # take a step according to policy\n",
    "    if is_terminal(state):\n",
    "        return state, 0 # reward = 0 for terminal states\n",
    "\n",
    "    current_cords_as_array = np.array(state)\n",
    "    next_state = current_cords_as_array + action\n",
    "    x, y = next_state.tolist()\n",
    "    \n",
    "    if out_of_bounds(x, y):\n",
    "        next_state = state\n",
    "    \n",
    "    return next_state, -1 # non-terminal states have reward -1\n",
    "\n",
    "def run_policy_evaluation():\n",
    "    captured_values = []# for plotting\n",
    "\n",
    "    iteration = 0\n",
    "    new_state_values = np.zeros((SZ,SZ))\n",
    "\n",
    "    while True:\n",
    "        state_values = new_state_values.copy()\n",
    "        \n",
    "        old_state_values = state_values.copy()\n",
    "\n",
    "        for i in range(SZ):\n",
    "            for j in range(SZ):\n",
    "                # i, j is a state\n",
    "                this_state = [i,j]\n",
    "                value = 0\n",
    "                for action in ACTIONS: # this could depend on s\n",
    "                    (next_i, next_j), reward = step(this_state, action) # how we get dependence on s\n",
    "                    value += ACTION_PROBABILITY * (reward + GAMMA * old_state_values[next_i,next_j])\n",
    "                    # compute the value at this point \n",
    "                new_state_values[i,j] = value \n",
    "\n",
    "        largest_delta = abs(old_state_values - new_state_values).max()\n",
    "        print(\"k: \", iteration, \", largest_delta: \", largest_delta)\n",
    "\n",
    "        if (iteration) in ITERATIONS_TO_CAPTURE: # off-by-one since we've done ONE update at this point\n",
    "            captured_values.append(np.array(new_state_values))\n",
    "\n",
    "        if largest_delta < CONVERGENCE_THRESHOLD:\n",
    "            break\n",
    "\n",
    "        iteration += 1\n",
    "\n",
    "    return new_state_values, iteration, captured_values\n"
   ]
  },
  {
   "cell_type": "code",
   "execution_count": 46,
   "metadata": {},
   "outputs": [
    {
     "name": "stdout",
     "output_type": "stream",
     "text": [
      "k:  0 , largest_delta:  1.0\n",
      "k:  1 , largest_delta:  1.0\n",
      "k:  2 , largest_delta:  1.0\n",
      "k:  3 , largest_delta:  0.96875\n",
      "k:  4 , largest_delta:  0.9375\n",
      "k:  5 , largest_delta:  0.89453125\n",
      "k:  6 , largest_delta:  0.8544921875\n",
      "k:  7 , largest_delta:  0.81103515625\n",
      "k:  8 , largest_delta:  0.770751953125\n",
      "k:  9 , largest_delta:  0.730255126953125\n",
      "k:  10 , largest_delta:  0.6925201416015625\n",
      "k:  11 , largest_delta:  0.6557655334472656\n",
      "k:  12 , largest_delta:  0.6213254928588867\n",
      "k:  13 , largest_delta:  0.5882596969604492\n",
      "k:  14 , largest_delta:  0.5571491718292236\n",
      "k:  15 , largest_delta:  0.527485579252243\n",
      "k:  16 , largest_delta:  0.49950262904167175\n",
      "k:  17 , largest_delta:  0.4729122780263424\n",
      "k:  18 , largest_delta:  0.44778872188180685\n",
      "k:  19 , largest_delta:  0.4239568174816668\n",
      "k:  20 , largest_delta:  0.40141887217760086\n",
      "k:  21 , largest_delta:  0.38005873272777535\n",
      "k:  22 , largest_delta:  0.3598478467174573\n",
      "k:  23 , largest_delta:  0.3407020762497268\n",
      "k:  24 , largest_delta:  0.32258116731372866\n",
      "k:  25 , largest_delta:  0.30541943855405407\n",
      "k:  26 , largest_delta:  0.28917376847448395\n",
      "k:  27 , largest_delta:  0.27379001551955184\n",
      "k:  28 , largest_delta:  0.2592261398323785\n",
      "k:  29 , largest_delta:  0.2454359065894245\n",
      "k:  30 , largest_delta:  0.23237999978143264\n",
      "k:  31 , largest_delta:  0.22001808767601005\n",
      "k:  32 , largest_delta:  0.20831414011977856\n",
      "k:  33 , largest_delta:  0.19723254226257225\n",
      "k:  34 , largest_delta:  0.1867406161957028\n",
      "k:  35 , largest_delta:  0.17680669684277106\n",
      "k:  36 , largest_delta:  0.16740130748806337\n",
      "k:  37 , largest_delta:  0.15849618885378192\n",
      "k:  38 , largest_delta:  0.15006482852898628\n",
      "k:  39 , largest_delta:  0.1420819550167991\n",
      "k:  40 , largest_delta:  0.1345237589079602\n",
      "k:  41 , largest_delta:  0.1273676154696588\n",
      "k:  42 , largest_delta:  0.1205921604290836\n",
      "k:  43 , largest_delta:  0.11417712643064704\n",
      "k:  44 , largest_delta:  0.108103351771895\n",
      "k:  45 , largest_delta:  0.10235267494911326\n",
      "k:  46 , largest_delta:  0.09690791387602715\n",
      "k:  47 , largest_delta:  0.09175279124077917\n",
      "k:  48 , largest_delta:  0.08687190204763695\n",
      "k:  49 , largest_delta:  0.08225065631786421\n",
      "k:  50 , largest_delta:  0.07787524330886342\n",
      "k:  51 , largest_delta:  0.07373258479578126\n",
      "k:  52 , largest_delta:  0.06981029976558517\n",
      "k:  53 , largest_delta:  0.06609666478283671\n",
      "k:  54 , largest_delta:  0.06258058077871453\n",
      "k:  55 , largest_delta:  0.05925153860689747\n",
      "k:  56 , largest_delta:  0.05609958851730923\n",
      "k:  57 , largest_delta:  0.053115309803800415\n",
      "k:  58 , largest_delta:  0.05028978307447929\n",
      "k:  59 , largest_delta:  0.04761456329634228\n",
      "k:  60 , largest_delta:  0.04508165476107706\n",
      "k:  61 , largest_delta:  0.042683487043778\n",
      "k:  62 , largest_delta:  0.04041289247617641\n",
      "k:  63 , largest_delta:  0.03826308465436057\n",
      "k:  64 , largest_delta:  0.03622763820372299\n",
      "k:  65 , largest_delta:  0.034300469541136636\n",
      "k:  66 , largest_delta:  0.032475818715560933\n",
      "k:  67 , largest_delta:  0.030748232176389223\n",
      "k:  68 , largest_delta:  0.02911254648505235\n",
      "k:  69 , largest_delta:  0.027563872874601714\n",
      "k:  70 , largest_delta:  0.026097582643529904\n",
      "k:  71 , largest_delta:  0.024709293317666692\n",
      "k:  72 , largest_delta:  0.023394855554336402\n",
      "k:  73 , largest_delta:  0.0221503407389676\n",
      "k:  74 , largest_delta:  0.020972029244411772\n",
      "k:  75 , largest_delta:  0.01985639931277916\n",
      "k:  76 , largest_delta:  0.018800116530186983\n",
      "k:  77 , largest_delta:  0.017800023860353065\n",
      "k:  78 , largest_delta:  0.016853132209082133\n",
      "k:  79 , largest_delta:  0.015956611490235417\n",
      "k:  80 , largest_delta:  0.015107782167241623\n",
      "k:  81 , largest_delta:  0.01430410724434239\n",
      "k:  82 , largest_delta:  0.01354318468407456\n",
      "k:  83 , largest_delta:  0.012822740227953489\n",
      "k:  84 , largest_delta:  0.012140620599144114\n",
      "k:  85 , largest_delta:  0.0114947870667379\n",
      "k:  86 , largest_delta:  0.010883309352323067\n",
      "k:  87 , largest_delta:  0.010304359860743517\n",
      "k:  88 , largest_delta:  0.009756208217780227\n",
      "k:  89 , largest_delta:  0.009237216098327394\n",
      "k:  90 , largest_delta:  0.008745832329793757\n",
      "k:  91 , largest_delta:  0.00828058825587874\n",
      "k:  92 , largest_delta:  0.007840093347070365\n",
      "k:  93 , largest_delta:  0.007423031044577755\n",
      "k:  94 , largest_delta:  0.007028154825398758\n",
      "k:  95 , largest_delta:  0.006654284476670824\n",
      "k:  96 , largest_delta:  0.006300302568241989\n",
      "k:  97 , largest_delta:  0.005965151112871325\n",
      "k:  98 , largest_delta:  0.005647828404111266\n",
      "k:  99 , largest_delta:  0.005347386022368283\n",
      "k:  100 , largest_delta:  0.005062926000263701\n",
      "k:  101 , largest_delta:  0.004793598138778776\n",
      "k:  102 , largest_delta:  0.004538597466151373\n",
      "k:  103 , largest_delta:  0.004297161831971152\n",
      "k:  104 , largest_delta:  0.00406856962923996\n",
      "k:  105 , largest_delta:  0.0038521376376436933\n",
      "k:  106 , largest_delta:  0.003647218981505773\n",
      "k:  107 , largest_delta:  0.003453201196414568\n",
      "k:  108 , largest_delta:  0.003269504398659251\n",
      "k:  109 , largest_delta:  0.003095579552088168\n",
      "k:  110 , largest_delta:  0.002930906827110391\n",
      "k:  111 , largest_delta:  0.0027749940470478407\n",
      "k:  112 , largest_delta:  0.0026273752170880016\n",
      "k:  113 , largest_delta:  0.002487609131531343\n",
      "k:  114 , largest_delta:  0.0023552780550772923\n",
      "k:  115 , largest_delta:  0.0022299864743331455\n",
      "k:  116 , largest_delta:  0.002111359915648592\n",
      "k:  117 , largest_delta:  0.0019990438259256393\n",
      "k:  118 , largest_delta:  0.001892702512897415\n",
      "k:  119 , largest_delta:  0.0017920181418027425\n",
      "k:  120 , largest_delta:  0.0016966897854651108\n",
      "k:  121 , largest_delta:  0.0016064325248379419\n",
      "k:  122 , largest_delta:  0.0015209765974759648\n",
      "k:  123 , largest_delta:  0.0014400665912219779\n",
      "k:  124 , largest_delta:  0.0013634606808423655\n",
      "k:  125 , largest_delta:  0.0012909299052843437\n",
      "k:  126 , largest_delta:  0.0012222574833131716\n",
      "k:  127 , largest_delta:  0.0011572381655966524\n",
      "k:  128 , largest_delta:  0.0010956776212900365\n",
      "k:  129 , largest_delta:  0.0010373918571673357\n",
      "k:  130 , largest_delta:  0.000982206667735852\n",
      "k:  131 , largest_delta:  0.0009299571145433561\n",
      "k:  132 , largest_delta:  0.0008804870332284054\n",
      "k:  133 , largest_delta:  0.0008336485667541638\n",
      "k:  134 , largest_delta:  0.00078930172350411\n",
      "k:  135 , largest_delta:  0.0007473139588682898\n",
      "k:  136 , largest_delta:  0.0007075597790944244\n",
      "k:  137 , largest_delta:  0.0006699203662030584\n",
      "k:  138 , largest_delta:  0.0006342832228618533\n",
      "k:  139 , largest_delta:  0.0006005418361638704\n",
      "k:  140 , largest_delta:  0.0005685953592760029\n",
      "k:  141 , largest_delta:  0.000538348310005432\n",
      "k:  142 , largest_delta:  0.0005097102854634272\n",
      "k:  143 , largest_delta:  0.00048259569181396955\n",
      "k:  144 , largest_delta:  0.00045692348850323583\n",
      "k:  145 , largest_delta:  0.00043261694600005285\n",
      "k:  146 , largest_delta:  0.00040960341648599297\n",
      "k:  147 , largest_delta:  0.0003878141167419358\n",
      "k:  148 , largest_delta:  0.0003671839225205531\n",
      "k:  149 , largest_delta:  0.0003476511739428645\n",
      "k:  150 , largest_delta:  0.00032915749119766247\n",
      "k:  151 , largest_delta:  0.00031164760004287473\n",
      "k:  152 , largest_delta:  0.0002950691666114835\n",
      "k:  153 , largest_delta:  0.00027937264099975323\n",
      "k:  154 , largest_delta:  0.0002645111091581498\n",
      "k:  155 , largest_delta:  0.0002504401526870481\n",
      "k:  156 , largest_delta:  0.00023711771606826915\n",
      "k:  157 , largest_delta:  0.00022450398096651725\n",
      "k:  158 , largest_delta:  0.00021256124724544634\n",
      "k:  159 , largest_delta:  0.0002012538202436076\n",
      "k:  160 , largest_delta:  0.0001905479041361957\n",
      "k:  161 , largest_delta:  0.00018041150089231905\n",
      "k:  162 , largest_delta:  0.00017081431465726382\n",
      "k:  163 , largest_delta:  0.00016172766119382231\n",
      "k:  164 , largest_delta:  0.00015312438215175916\n",
      "k:  165 , largest_delta:  0.00014497876391317277\n",
      "k:  166 , largest_delta:  0.00013726646070111315\n",
      "k:  167 , largest_delta:  0.00012996442185908563\n",
      "k:  168 , largest_delta:  0.0001230508229213001\n",
      "k:  169 , largest_delta:  0.00011650500040971679\n",
      "k:  170 , largest_delta:  0.00011030739005235546\n",
      "k:  171 , largest_delta:  0.00010443946833049722\n",
      "k:  172 , largest_delta:  9.888369708832556e-05\n"
     ]
    }
   ],
   "source": [
    "end_state_values, end_iteration, captured_values = run_policy_evaluation()"
   ]
  },
  {
   "cell_type": "code",
   "execution_count": 38,
   "metadata": {},
   "outputs": [],
   "source": [
    "from matplotlib.table import Table\n",
    "import seaborn as sns"
   ]
  },
  {
   "cell_type": "code",
   "execution_count": 47,
   "metadata": {},
   "outputs": [],
   "source": [
    "def plot(captured_values):\n",
    "\n",
    "    for ( idx, k) in enumerate(ITERATIONS_TO_CAPTURE): # = [0,1,2,3]\n",
    "        fig, ax = plt.subplots()\n",
    "        plt.gcf().text(-0.03, 0.5, f\"k = {k}\", fontsize=14)\n",
    "\n",
    "        ax.set_axis_off()\n",
    "        # k + 1 is actual value\n",
    "        print(idx)\n",
    "        current_value = np.round(captured_values[idx], decimals=2)\n",
    "        min_value = np.min(current_value)\n",
    "        max_value = np.max(current_value)\n",
    "        sns.heatmap(current_value, vmin=min_value, vmax=max_value)\n",
    "        table = Table(ax)\n",
    "\n",
    "        nrows, ncols = current_value.shape\n",
    "        width, height = 1.0 / ncols, 1.0 / nrows\n",
    "\n",
    "        # Add cells\n",
    "        for (i, j), val in np.ndenumerate(current_value):\n",
    "            table.add_cell(i, j, width, height, text=val,\n",
    "                        loc='center', facecolor='white')\n",
    "\n",
    "            # Row and column labels...\n",
    "        for i in range(len(current_value)):\n",
    "            table.add_cell(i, -1, width, height, text=i+1, loc='right',\n",
    "                        edgecolor='none', facecolor='none')\n",
    "            table.add_cell(-1, i, width, height/2, text=i+1, loc='center',\n",
    "                        edgecolor='none', facecolor='none')\n",
    "        \n",
    "        ax.add_table(table)\n",
    "    \n"
   ]
  },
  {
   "cell_type": "code",
   "execution_count": 48,
   "metadata": {},
   "outputs": [
    {
     "name": "stdout",
     "output_type": "stream",
     "text": [
      "0\n",
      "1\n",
      "2\n",
      "3\n",
      "4\n"
     ]
    },
    {
     "data": {
      "image/png": "[encoded data removed]",
      "text/plain": [
       "<Figure size 432x288 with 2 Axes>"
      ]
     },
     "metadata": {
      "needs_background": "light"
     },
     "output_type": "display_data"
    },
    {
     "data": {
      "image/png": "[encoded data removed]",
      "text/plain": [
       "<Figure size 432x288 with 2 Axes>"
      ]
     },
     "metadata": {
      "needs_background": "light"
     },
     "output_type": "display_data"
    },
    {
     "data": {
      "image/png": "[encoded data removed]",
      "text/plain": [
       "<Figure size 432x288 with 2 Axes>"
      ]
     },
     "metadata": {
      "needs_background": "light"
     },
     "output_type": "display_data"
    },
    {
     "data": {
      "image/png": "[encoded data removed]",
      "text/plain": [
       "<Figure size 432x288 with 2 Axes>"
      ]
     },
     "metadata": {
      "needs_background": "light"
     },
     "output_type": "display_data"
    },
    {
     "data": {
      "image/png": "[encoded data removed]",
      "text/plain": [
       "<Figure size 432x288 with 2 Axes>"
      ]
     },
     "metadata": {
      "needs_background": "light"
     },
     "output_type": "display_data"
    }
   ],
   "source": [
    "plot(captured_values)"
   ]
  },
  {
   "cell_type": "code",
   "execution_count": null,
   "metadata": {},
   "outputs": [],
   "source": []
  }
 ],
 "metadata": {
  "kernelspec": {
   "display_name": "Python 3.7.10 ('ml')",
   "language": "python",
   "name": "python3"
  },
  "language_info": {
   "codemirror_mode": {
    "name": "ipython",
    "version": 3
   },
   "file_extension": ".py",
   "mimetype": "text/x-python",
   "name": "python",
   "nbconvert_exporter": "python",
   "pygments_lexer": "ipython3",
   "version": "3.7.10"
  },
  "orig_nbformat": 4,
  "vscode": {
   "interpreter": {
    "hash": "088642957c490dd4daf395be73f7b752d6c7c85f2342d2cbf02101c32df6c315"
   }
  }
 },
 "nbformat": 4,
 "nbformat_minor": 2
}
